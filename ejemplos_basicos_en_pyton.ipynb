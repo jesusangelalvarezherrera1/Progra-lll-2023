{
  "cells": [
    {
      "cell_type": "markdown",
      "metadata": {
        "id": "view-in-github",
        "colab_type": "text"
      },
      "source": [
        "<a href=\"https://colab.research.google.com/github/jesusangelalvarezherrera1/Progra-lll-2023/blob/main/ejemplos_basicos_en_pyton.ipynb\" target=\"_parent\"><img src=\"https://colab.research.google.com/assets/colab-badge.svg\" alt=\"Open In Colab\"/></a>"
      ]
    },
    {
      "cell_type": "markdown",
      "metadata": {
        "id": "vS23TpoAIeeC"
      },
      "source": [
        "Declaracion de variables"
      ]
    },
    {
      "cell_type": "markdown",
      "metadata": {
        "id": "0ON2yffpIXHi"
      },
      "source": [
        "Introduccion de pyton"
      ]
    },
    {
      "cell_type": "code",
      "execution_count": null,
      "metadata": {
        "colab": {
          "base_uri": "https://localhost:8080/"
        },
        "id": "Hpx8fEA0Ipoq",
        "outputId": "c82e28ab-5e80-4240-855d-797e8c3293e8"
      },
      "outputs": [
        {
          "name": "stdout",
          "output_type": "stream",
          "text": [
            "HOLA MUNDO\n"
          ]
        }
      ],
      "source": [
        "saludo =\"HOLA MUNDO\"\n",
        "print(saludo)"
      ]
    },
    {
      "cell_type": "code",
      "execution_count": null,
      "metadata": {
        "colab": {
          "base_uri": "https://localhost:8080/"
        },
        "id": "A5QLzwdAJAdT",
        "outputId": "2e7efab0-bb33-4fa2-a1b1-43b7d5f24071"
      },
      "outputs": [
        {
          "name": "stdout",
          "output_type": "stream",
          "text": [
            "la suma de  5  +  7.5 = 12.5\n"
          ]
        }
      ],
      "source": [
        "num1 = 5\n",
        "num2 = 7.5\n",
        "resp = num1 + num2\n",
        "print(\"la suma de \", num1, \" + \", num2, \"=\", resp)"
      ]
    },
    {
      "cell_type": "code",
      "execution_count": null,
      "metadata": {
        "colab": {
          "base_uri": "https://localhost:8080/"
        },
        "id": "S8090ghjKPvB",
        "outputId": "12a1cd48-2f77-45ee-f1e1-32c3228c7957"
      },
      "outputs": [
        {
          "name": "stdout",
          "output_type": "stream",
          "text": [
            "hola precioso Jesus Alvarez, tu edad 21\n"
          ]
        }
      ],
      "source": [
        "name = \"Jesus Alvarez\"\n",
        "edad = 21\n",
        "saludo = \"hola precioso \"+ name +\", tu edad \"+ str(edad)\n",
        "print(saludo)"
      ]
    },
    {
      "cell_type": "code",
      "execution_count": null,
      "metadata": {
        "colab": {
          "base_uri": "https://localhost:8080/"
        },
        "id": "4vsg86nPLX7I",
        "outputId": "272a163a-badc-42aa-d70d-b1edf5429562"
      },
      "outputs": [
        {
          "name": "stdout",
          "output_type": "stream",
          "text": [
            "Dime tu nombre: jesus\n",
            "Tu edad: 22\n",
            "hola que tal jesus, tu edad: 22\n"
          ]
        }
      ],
      "source": [
        "nombre  = input(\"Dime tu nombre: \")\n",
        "edad = input(\"Tu edad: \")\n",
        "saludo = \"hola que tal \"+ nombre + \", tu edad: \"+ edad\n",
        "print(saludo)\n"
      ]
    },
    {
      "cell_type": "code",
      "execution_count": null,
      "metadata": {
        "colab": {
          "base_uri": "https://localhost:8080/"
        },
        "id": "BIJcSMe__5K3",
        "outputId": "3e74cf0a-5154-4721-a961-765eaecedf39"
      },
      "outputs": [
        {
          "name": "stdout",
          "output_type": "stream",
          "text": [
            "Dime el num1: 1\n",
            "Dime el num2: 5\n",
            "La suma de 1.0 + 5.0 = 6.0\n"
          ]
        }
      ],
      "source": [
        "num1 = float(input(\"Dime el num1: \"))\n",
        "num2 = float(input(\"Dime el num2: \"))\n",
        "resp = num1 + num2\n",
        "print(\"La suma de\", num1, \"+\", num2, \"=\", resp)"
      ]
    },
    {
      "cell_type": "code",
      "execution_count": null,
      "metadata": {
        "colab": {
          "base_uri": "https://localhost:8080/"
        },
        "id": "Ac7apz6xv7th",
        "outputId": "af39de1e-367c-4c92-efaa-5167bd6b9257"
      },
      "outputs": [
        {
          "name": "stdout",
          "output_type": "stream",
          "text": [
            "Los valores: Num 1:  5  Num 2:  4.9\n",
            "Valor: Num 1:  5\n"
          ]
        }
      ],
      "source": [
        "num1 = 5 #variable de tipo entero.\n",
        "num2 = 4.9 #variable de tipo double, real, decimal.\n",
        "print(\"Los valores: Num 1: \", num1, \" Num 2: \", num2)\n",
        "\n",
        "#num1 = 4.9\n",
        "print(\"Valor: Num 1: \", num1)"
      ]
    },
    {
      "cell_type": "code",
      "execution_count": null,
      "metadata": {
        "id": "z-buEACUwHH6"
      },
      "outputs": [],
      "source": [
        "varLogica = False\n",
        "\n",
        "print(\"Variable Booleana: \", varLogica)"
      ]
    },
    {
      "cell_type": "code",
      "execution_count": null,
      "metadata": {
        "id": "RAFeNPFPwIIh"
      },
      "outputs": [],
      "source": [
        "nombre = \"Luis Hernandez\"\n",
        "print(\"Mi Nombre: \", nombre, \"Iniciales: \", nombre[0], nombre[5], \"Longitud: \", len(nombre) )\n",
        "print(\"Primer Nombre: \", nombre[0:5])\n",
        "print(\"Primer Nombre: \", nombre[:5])\n",
        "print(\"Apellido: \", nombre[5:len(nombre)])\n",
        "print(\"Apellid: \", nombre[5:])\n",
        "print(\"Apellido: \", nombre[-9:])"
      ]
    },
    {
      "cell_type": "code",
      "execution_count": null,
      "metadata": {
        "id": "Vh-3TeJEwM94"
      },
      "outputs": [],
      "source": [
        "print(type(num1))\n",
        "print(type(num2))\n",
        "print(type(varLogica))\n",
        "print(type(nombre))"
      ]
    },
    {
      "cell_type": "code",
      "execution_count": null,
      "metadata": {
        "id": "GmpqMNvQwb-2"
      },
      "outputs": [],
      "source": [
        "num1 = float(input(\"Num 1: \"))\n",
        "num2 = float(input(\"Num 2: \"))\n",
        "resp = num1 + num2\n",
        "print(\"La suma es: \", resp)"
      ]
    },
    {
      "cell_type": "code",
      "execution_count": null,
      "metadata": {
        "id": "IyZwbmbLwgCw"
      },
      "outputs": [],
      "source": [
        "def suma(num1, num2):\n",
        "  return num1 + num2"
      ]
    },
    {
      "cell_type": "code",
      "execution_count": null,
      "metadata": {
        "id": "Mhx-0kV4wj_q"
      },
      "outputs": [],
      "source": [
        "num1 = float(input(\"Num 1: \"))\n",
        "num2 = float(input(\"N4.26um 2: \"))\n",
        "resp = suma(num1, num2)\n",
        "print(resp)"
      ]
    },
    {
      "cell_type": "markdown",
      "metadata": {
        "id": "ZunM0-_8wrWP"
      },
      "source": [
        "FUNCIONES DE USUARIO\n",
        "\n",
        "Convertir grados celsius a farenheit."
      ]
    },
    {
      "cell_type": "code",
      "execution_count": null,
      "metadata": {
        "id": "SyAxJpJzws-w"
      },
      "outputs": [],
      "source": [
        "def convertir_cf(c):\n",
        "  return 32 + c*9/5"
      ]
    },
    {
      "cell_type": "code",
      "execution_count": null,
      "metadata": {
        "id": "gAAQvPNcwwRT"
      },
      "outputs": [],
      "source": [
        "c = float(input(\"Celsius: \"))\n",
        "print(\"F: \", convertir_cf(c))"
      ]
    },
    {
      "cell_type": "markdown",
      "metadata": {
        "id": "ZK54xFnaxIjy"
      },
      "source": [
        "EJERCICIOS\n",
        "\n",
        "Convertir de Farenheit a Celsius\n",
        "Convertir de [Celsius, Farenheit] a Kelvin"
      ]
    },
    {
      "cell_type": "markdown",
      "metadata": {
        "id": "LxKbRVEHxQQW"
      },
      "source": [
        "CALCULAR EL SUELDO MENSUAL"
      ]
    },
    {
      "cell_type": "code",
      "execution_count": null,
      "metadata": {
        "id": "0d7oF0dTw7ux"
      },
      "outputs": [],
      "source": [
        "def sueldo(numHrs, valorXhr):\n",
        "  sueldo = numHrs*valorXhr*30\n",
        "  if(numHrs>8):\n",
        "    sueldo += (numHrs-8)*valorXhr*2*30\n",
        "  #isss + afp = 3 + 6.25 = 9.25 = 100 - 9.25 = 90.75/100 = 0.9075\n",
        "  #sueldo = sueldo*0.9075\n",
        "  return sueldo"
      ]
    },
    {
      "cell_type": "code",
      "execution_count": null,
      "metadata": {
        "id": "WmsIHv5gxHe6"
      },
      "outputs": [],
      "source": [
        "tabla_isr = [\n",
        "    [0.01, 472, 0, 0],\n",
        "    [472.01, 895.24, 0.1, 17.67],\n",
        "    [895.25, 2038.1, 0.2, 60.00],\n",
        "    [2038.11,9999999, 0.3, 288.57]\n",
        "]"
      ]
    },
    {
      "cell_type": "code",
      "execution_count": null,
      "metadata": {
        "id": "C06mTNDgxbeS"
      },
      "outputs": [],
      "source": [
        "def calcularIsr(sueldo, sueldoNeto):\n",
        "  impSr = 0\n",
        "  for tramo in tabla_isr:\n",
        "    if sueldo>tramo[0] and sueldo<=tramo[1]:\n",
        "      impSr = (sueldoNeto-tramo[0])*tramo[2] + tramo[3]\n",
        "  return impSr"
      ]
    },
    {
      "cell_type": "code",
      "execution_count": null,
      "metadata": {
        "colab": {
          "base_uri": "https://localhost:8080/"
        },
        "id": "5kC1mAP6xiBt",
        "outputId": "752e5d9e-c581-4c9a-8f7f-96b503e2c849"
      },
      "outputs": [
        {
          "name": "stdout",
          "output_type": "stream",
          "text": [
            "Horas trabajadas: 4\n",
            "Sueldo:  480.0 ISR:  14.029 421.57099999999997\n"
          ]
        }
      ],
      "source": [
        "valorXhr = 4\n",
        "#isss = 3%\n",
        "#afp = 6.25%\n",
        "numHrs = float(input(\"Horas trabajadas: \"))\n",
        "s = sueldo(numHrs, valorXhr)\n",
        "isr = calcularIsr(s, s*0.9075)\n",
        "print( \"Sueldo: \", s, \"ISR: \", isr, s*0.9075-isr )"
      ]
    },
    {
      "cell_type": "markdown",
      "metadata": {
        "id": "3z8im8PCxoVy"
      },
      "source": [
        "FUNCIONES LAMBDA\n",
        "\n",
        "FUNCIONES PRECONTRUIDAS MAP, FILTER, FIND, REDUCE, ETC."
      ]
    },
    {
      "cell_type": "code",
      "execution_count": null,
      "metadata": {
        "id": "7qlk7YXVxnWl"
      },
      "outputs": [],
      "source": [
        "def elevarCuadrado(num):\n",
        "  return num**2"
      ]
    },
    {
      "cell_type": "code",
      "execution_count": null,
      "metadata": {
        "id": "kCFDSP7ox1tb"
      },
      "outputs": [],
      "source": [
        "data = [1,2,3,4,5]"
      ]
    },
    {
      "cell_type": "code",
      "execution_count": null,
      "metadata": {
        "id": "GtLS5kqbx4Rw"
      },
      "outputs": [],
      "source": [
        "resp = map(elevarCuadrado, data)\n",
        "print(list(resp))"
      ]
    },
    {
      "cell_type": "code",
      "execution_count": null,
      "metadata": {
        "id": "ddhybKjFx7f1"
      },
      "outputs": [],
      "source": [
        "resp = map(lambda n:n**2, data)\n",
        "print(list(resp))"
      ]
    },
    {
      "cell_type": "code",
      "execution_count": null,
      "metadata": {
        "id": "4vm-4eAfyDb2"
      },
      "outputs": [],
      "source": [
        "resp = filter(lambda n:n>2, data)\n",
        "print( list(resp) )"
      ]
    },
    {
      "cell_type": "code",
      "execution_count": null,
      "metadata": {
        "id": "nlGb7PsFyLDF"
      },
      "outputs": [],
      "source": [
        "resp = functools.reduce(lambda a,n:a+n, data)\n",
        "print(resp)"
      ]
    },
    {
      "cell_type": "markdown",
      "metadata": {
        "id": "mTZTR_FMyUff"
      },
      "source": [
        "TUPLAS"
      ]
    },
    {
      "cell_type": "code",
      "execution_count": null,
      "metadata": {
        "id": "hmf7YrcfyVvC"
      },
      "outputs": [],
      "source": [
        "semana = (\"domingo\", \"lunes\", \"martes\", \"miercoles\", \"jueves\", \"viernes\", \"sabado\")\n",
        "#semana[0] = \"otro\"\n",
        "print( semana.count(\"domingo\") ) #count cuenta el numero de veces que aparece un elemento en la tupla\n",
        "print( len(semana) )"
      ]
    },
    {
      "cell_type": "markdown",
      "metadata": {
        "id": "bdB5ebSwb51K"
      },
      "source": [
        "LISTAS => Array"
      ]
    },
    {
      "cell_type": "code",
      "execution_count": null,
      "metadata": {
        "id": "K5Nl6yLXb70T"
      },
      "outputs": [],
      "source": [
        "meses = [\"ene\", \"feb\", \"mar\", \"abr\", \"may\", \"jun\", \"jul\", \"ago\", \"sep\", \"oct\", \"nov\", \"dic\"]\n",
        "print( meses[-2:] ) #ultimos dos meses del año\n",
        "print( meses[:2] ) #primero dos meses del año\n",
        "\n",
        "meses[0] = \"enero\"\n",
        "\n",
        "print( meses )"
      ]
    },
    {
      "cell_type": "code",
      "execution_count": null,
      "metadata": {
        "id": "6kGe8xhNcGVn"
      },
      "outputs": [],
      "source": [
        "materias = [ [\"Progra I\", [5,6,8], [8,7,9], [9,10,9] ], [\"Progra II\"] ]\n",
        "print( materias[1][0] )"
      ]
    },
    {
      "cell_type": "markdown",
      "metadata": {
        "id": "Q0Pe2YS1cchk"
      },
      "source": [
        "DICCIONARIOS => JSON"
      ]
    },
    {
      "cell_type": "code",
      "execution_count": null,
      "metadata": {
        "id": "8kgw7CBcceLf"
      },
      "outputs": [],
      "source": [
        "materias = {\n",
        "    \"Progra I\": {\n",
        "        \"c1\": {\n",
        "          \"lab1\" : 5,\n",
        "          \"lab2\" : 6,\n",
        "          \"parcial\" : 8\n",
        "      },\n",
        "      \"c2\": {\n",
        "          \"lab1\" : 8,\n",
        "          \"lab2\" : 7,\n",
        "          \"parcial\" : 9\n",
        "      },\n",
        "      \"c3\": {\n",
        "          \"lab1\" : 9,\n",
        "          \"lab2\" : 10,\n",
        "          \"parcial\" : 9\n",
        "      }\n",
        "    },\n",
        "    \"Progra II\" :{\n",
        "\n",
        "    }\n",
        "}\n",
        "print( materias[\"Progra I\"][\"c1\"][\"lab1\"] )"
      ]
    },
    {
      "cell_type": "markdown",
      "metadata": {
        "id": "S7h1F2qiclrn"
      },
      "source": [
        "LISTAS"
      ]
    },
    {
      "cell_type": "code",
      "execution_count": null,
      "metadata": {
        "id": "l4dt4gCfcnUE"
      },
      "outputs": [],
      "source": [
        "data = [2,5,6,8,9]"
      ]
    },
    {
      "cell_type": "code",
      "execution_count": null,
      "metadata": {
        "id": "TV7bm35Ecq4G"
      },
      "outputs": [],
      "source": [
        "resp = map(lambda n:n**3, data)\n",
        "print(list(resp))"
      ]
    },
    {
      "cell_type": "code",
      "execution_count": null,
      "metadata": {
        "id": "W-DxthBYct96"
      },
      "outputs": [],
      "source": [
        "f = map(lambda c:c*9/5 + 32, data)\n",
        "print( list(f) )"
      ]
    },
    {
      "cell_type": "code",
      "execution_count": null,
      "metadata": {
        "id": "T5ho8WX2cw7H"
      },
      "outputs": [],
      "source": [
        "pares = filter(lambda n:n%2==0, data)\n",
        "print( list(pares) )"
      ]
    },
    {
      "cell_type": "code",
      "execution_count": null,
      "metadata": {
        "id": "gpJOsdMfcz50"
      },
      "outputs": [],
      "source": [
        "impares = filter(lambda n:n%2!=0, data)\n",
        "print( list(impares) )"
      ]
    },
    {
      "cell_type": "markdown",
      "metadata": {
        "id": "KCjS2zrTc45p"
      },
      "source": [
        "CICLOS\n",
        "\n",
        "FOR"
      ]
    },
    {
      "cell_type": "code",
      "execution_count": null,
      "metadata": {
        "id": "4hBBy0Qic6GS"
      },
      "outputs": [],
      "source": [
        "for item in data:\n",
        "  print(item)"
      ]
    },
    {
      "cell_type": "markdown",
      "metadata": {
        "id": "5zcjyRdDc9mc"
      },
      "source": [
        "WHILE"
      ]
    },
    {
      "cell_type": "code",
      "execution_count": null,
      "metadata": {
        "id": "Ugrmm1vgdAF6"
      },
      "outputs": [],
      "source": [
        "i=0\n",
        "n = len(data)\n",
        "while i<n:\n",
        "  print( data[i] )\n",
        "  i+=1"
      ]
    },
    {
      "cell_type": "markdown",
      "metadata": {
        "id": "D-6CWtejdHCX"
      },
      "source": [
        "TABLA DE MULTIPLICAR"
      ]
    },
    {
      "cell_type": "code",
      "execution_count": null,
      "metadata": {
        "id": "XeQHWXoydIF4"
      },
      "outputs": [],
      "source": [
        "n = int(input(\"N Tabla: \"))\n",
        "\n",
        "for i in range(1,11):\n",
        "  print( n, \"x\", i, \"=\", n*i )"
      ]
    },
    {
      "cell_type": "code",
      "execution_count": null,
      "metadata": {
        "id": "Dqg_cNfIdN3F"
      },
      "outputs": [],
      "source": [
        "edad = int(input(\"Edad: \"))\n",
        "\n",
        "if edad<=2:\n",
        "  print(\"soy un bebe\")\n",
        "elif edad<=11:\n",
        "  print(\"Soy un niño\")\n",
        "elif edad<18:\n",
        "  print(\"Soy un adolescente\")\n",
        "elif edad<=65:\n",
        "  print(\"soy mayor de edad\")\n",
        "elif edad<=85:\n",
        "  print(\"Soy un adulto mayor\")\n",
        "else:\n",
        "  print(\"Larga vida\")"
      ]
    },
    {
      "cell_type": "code",
      "execution_count": null,
      "metadata": {
        "id": "uqT3iTIZdYw1"
      },
      "outputs": [],
      "source": [
        "lista = [5,8,9,15,7,9,2,3, 2, 1]"
      ]
    },
    {
      "cell_type": "code",
      "execution_count": null,
      "metadata": {
        "id": "DvXgn5Ezd6Ph"
      },
      "outputs": [],
      "source": [
        "mayor = 0\n",
        "for num in lista:\n",
        "  if num>mayor:\n",
        "    mayor = num\n",
        "print(\"EL numero mayor de la lista: \", lista, \"es: \", mayor)"
      ]
    },
    {
      "cell_type": "code",
      "execution_count": null,
      "metadata": {
        "id": "50W3eCyzd-yW"
      },
      "outputs": [],
      "source": [
        "mayor = 0\n",
        "i=0\n",
        "n=len(lista)\n",
        "while i<n:\n",
        "  if lista[i]>mayor:\n",
        "    mayor = lista[i]\n",
        "  i+=1\n",
        "print(mayor)"
      ]
    },
    {
      "cell_type": "markdown",
      "metadata": {
        "id": "tYc8pZAyeGM9"
      },
      "source": [
        "Escribir un programa que pida la nota de un examen (0-10), e imprima por pantalla la calificacion en formato: \"Suspenso\" si la nota es menor a 5, \"Aprobado\" si es entre 5 inclusive, y 7 sin incluir, \"Notable\" si esta entre 7 inclusive y 9 sin incluir, \"Sobresaliente\" si esta entre 9 inclusive y 10 sin incluir, y \"Honorable\" si es 10"
      ]
    },
    {
      "cell_type": "code",
      "execution_count": null,
      "metadata": {
        "id": "gCm3OGo5eFP7"
      },
      "outputs": [],
      "source": [
        "nota = float(input(\"Nota: \"))\n",
        "if(nota<0 or nota>10):\n",
        "  print(\"Nota invalida\")\n",
        "elif(nota<5):\n",
        "  print(\"SUPENSO\")\n",
        "elif(nota<7):\n",
        "  print(\"APROBADO\")\n",
        "elif(nota<9):\n",
        "  print(\"NOTABLE\")\n",
        "elif(nota<10):\n",
        "  print(\"SOBRESALIENTE\")\n",
        "else:\n",
        "  print(\"HONORABLE\")"
      ]
    },
    {
      "cell_type": "markdown",
      "metadata": {
        "id": "aB5GUkXReSHh"
      },
      "source": [
        "Escriba un programa que muestre la secuencia fibonacci"
      ]
    },
    {
      "cell_type": "code",
      "execution_count": null,
      "metadata": {
        "id": "eUKhpnRteQSP"
      },
      "outputs": [],
      "source": [
        "limit = int(input(\"Limit: \"))\n",
        "a=0\n",
        "b=1\n",
        "c=0\n",
        "while c<limit:\n",
        "  c=a+b\n",
        "  print(a,\"+\",b,\"=\", c)\n",
        "  b=a\n",
        "  a=c"
      ]
    },
    {
      "cell_type": "markdown",
      "metadata": {
        "id": "MCy8fZHye2qY"
      },
      "source": [
        "\n",
        "Escriba un programa que encuentre la media aritmetica de una serie de numeros introducidos por el usuario\n",
        "Escriba un programa que determine si una palabra introducida por el usuario es palindrome o no, ejm. de palabras palindrome: Ana, oso, oro, etc.\n",
        "Escriba un programa que convierta un numero instroducido por el usuario a su equivalente en numeros romanos. Ejm: 5 -> V"
      ]
    },
    {
      "cell_type": "markdown",
      "metadata": {
        "id": "NkWG-oVXe7s0"
      },
      "source": [
        "PROGRAMACION ORIENTADA A OBJETOS.\n",
        "\n",
        "CLASE"
      ]
    },
    {
      "cell_type": "code",
      "execution_count": null,
      "metadata": {
        "id": "vUIc7Ji2e4Qd"
      },
      "outputs": [],
      "source": [
        "class Calculadora:\n",
        "  def sumar(sefl, num1, num2):\n",
        "    return num1 + num2"
      ]
    },
    {
      "cell_type": "markdown",
      "metadata": {
        "id": "50snWOwrfEwO"
      },
      "source": [
        "INSTANCIA DE UNA CLASE"
      ]
    },
    {
      "cell_type": "code",
      "execution_count": null,
      "metadata": {
        "id": "ieONG16jfDD0"
      },
      "outputs": [],
      "source": [
        "objCalculadora = Calculadora()"
      ]
    },
    {
      "cell_type": "markdown",
      "metadata": {
        "id": "IlF7hkWPfMBo"
      },
      "source": [
        "OBJETO"
      ]
    },
    {
      "cell_type": "code",
      "execution_count": null,
      "metadata": {
        "colab": {
          "base_uri": "https://localhost:8080/"
        },
        "id": "mKTFYgL5fQc3",
        "outputId": "2a76ae03-9506-4817-cd9a-adf62ea0b937"
      },
      "outputs": [
        {
          "name": "stdout",
          "output_type": "stream",
          "text": [
            "La suma de 5 + 3 =  8\n"
          ]
        }
      ],
      "source": [
        "print( \"La suma de 5 + 3 = \", objCalculadora.sumar(5,3) )"
      ]
    },
    {
      "cell_type": "markdown",
      "metadata": {
        "id": "GqHkORJnsYwq"
      },
      "source": [
        "TAREA DE PROGRAMACIÓN EN PYTON\n",
        "\n",
        "Calcular sobre el sueldo las deducciones por ley ISSS (3%), AFP(6.25%), ISR(Según tabla) e imprima el total deducciones y sueldo neto. (20%)"
      ]
    },
    {
      "cell_type": "code",
      "execution_count": null,
      "metadata": {
        "id": "hO1JqmJvtodW"
      },
      "outputs": [],
      "source": [
        "def sueldo(numHrs, valorXhr):\n",
        "  sueldo = numHrs*valorXhr*30\n",
        "  if(numHrs>8):\n",
        "    sueldo += (numHrs-8)*valorXhr*2*30\n",
        "  #isss + afp = 3 + 6.25 = 9.25 = 100 - 9.25 = 90.75/100 = 0.9075\n",
        "  #sueldo = sueldo*0.9075\n",
        "  return sueldo"
      ]
    },
    {
      "cell_type": "code",
      "execution_count": null,
      "metadata": {
        "id": "UDsMX87VtsIj"
      },
      "outputs": [],
      "source": [
        "  tabla_isr = [\n",
        "    [0.01, 472, 0, 0],\n",
        "    [472.01, 895.24, 0.1, 17.67],\n",
        "    [895.25, 2038.1, 0.2, 60.00],\n",
        "    [2038.11,9999999, 0.3, 288.57]\n",
        "]"
      ]
    },
    {
      "cell_type": "code",
      "execution_count": null,
      "metadata": {
        "id": "abhTfWMUue68"
      },
      "outputs": [],
      "source": [
        "def calcularIsr(sueldo, sueldoNeto):\n",
        "  impSr = 0\n",
        "  for tramo in tabla_isr:\n",
        "    if sueldo>tramo[0] and sueldo<=tramo[1]:\n",
        "      impSr = (sueldoNeto-tramo[0])*tramo[2] + tramo[3]\n",
        "  return impSr"
      ]
    },
    {
      "cell_type": "code",
      "execution_count": null,
      "metadata": {
        "colab": {
          "base_uri": "https://localhost:8080/"
        },
        "id": "iIRna3Wpt-c6",
        "outputId": "fcd6260b-0a8f-417a-d31c-fe80fbd1ffd1"
      },
      "outputs": [
        {
          "name": "stdout",
          "output_type": "stream",
          "text": [
            "Horas trabajadas: 4\n",
            "Sueldo:  480.0 ISR:  14.029 421.57099999999997\n"
          ]
        }
      ],
      "source": [
        "\n",
        "valorXhr = 4\n",
        "#isss = 3%\n",
        "#afp = 6.25%\n",
        "numHrs = float(input(\"Horas trabajadas: \"))\n",
        "s = sueldo(numHrs, valorXhr)\n",
        "isr = calcularIsr(s, s*0.9075)\n",
        "print( \"Sueldo: \", s, \"ISR: \", isr, s*0.9075-isr )"
      ]
    },
    {
      "cell_type": "markdown",
      "metadata": {
        "id": "is0TMcJ5wgMu"
      },
      "source": [
        "Calcular el valor a pagar según el número de metros consumidos de agua potable. (20%)"
      ]
    },
    {
      "cell_type": "code",
      "execution_count": null,
      "metadata": {
        "colab": {
          "base_uri": "https://localhost:8080/"
        },
        "id": "q1gvbHmnwlKj",
        "outputId": "fedf4f62-6956-4d34-9c52-c9f287f80bec"
      },
      "outputs": [
        {
          "name": "stdout",
          "output_type": "stream",
          "text": [
            "Ingrese el número de metros consumidos: 20\n",
            "El valor a pagar es: $6.90\n"
          ]
        }
      ],
      "source": [
        "def calcular_valor_agua(metros_consumidos):\n",
        "    cuota_fija = 6\n",
        "\n",
        "    if metros_consumidos <= 18:\n",
        "        valor_pagar = cuota_fija\n",
        "    elif metros_consumidos <= 28:\n",
        "        exceso_18 = metros_consumidos - 18\n",
        "        valor_exceso_18 = exceso_18 * 0.45\n",
        "        valor_pagar = cuota_fija + valor_exceso_18\n",
        "    else:\n",
        "        exceso_28 = metros_consumidos - 28\n",
        "        valor_exceso_28 = exceso_28 * 0.65\n",
        "        valor_exceso_18 = (28 - 18) * 0.45\n",
        "        valor_pagar = cuota_fija + valor_exceso_18 + valor_exceso_28\n",
        "\n",
        "    return valor_pagar\n",
        "\n",
        "metros_consumidos = int(input(\"Ingrese el número de metros consumidos: \"))\n",
        "valor_pagar = calcular_valor_agua(metros_consumidos)\n",
        "print(f\"El valor a pagar es: ${valor_pagar:.2f}\")"
      ]
    },
    {
      "cell_type": "markdown",
      "metadata": {
        "id": "luZn5D2jxhD6"
      },
      "source": [
        "Desarrolle la tabla de meses acumulados a n meses. (10%)"
      ]
    },
    {
      "cell_type": "code",
      "execution_count": null,
      "metadata": {
        "id": "PB3-dZWNxgen"
      },
      "outputs": [],
      "source": [
        "def tabla_de_meses_acumulados(n):\n",
        "    tabla = [(mes, mes * (mes + 1) // 2, (mes - 1) * mes // 2) for mes in range(1, n + 1)]\n",
        "    return tabla\n",
        "\n",
        "def mostrar_tabla(tabla):\n",
        "    print(\"{:<6}      {:<12}\".format(\"MESES\", \"ACUMULACION\"))\n",
        "    print(\"---------------------------\")\n",
        "    for fila in tabla:\n",
        "        print(\"{:<2}       {} + {} = {}\".format(fila[0], fila[0], fila[2], fila[1]))\n",
        "\n",
        "n_meses = int(input(\"Coloca el número de meses para generar la tabla: \"))\n",
        "tabla_meses_acumulados = tabla_de_meses_acumulados(n_meses)\n",
        "mostrar_tabla(tabla_meses_acumulados)"
      ]
    },
    {
      "cell_type": "markdown",
      "metadata": {
        "id": "qpqJvDAqxonF"
      },
      "source": [
        "Conversores: (40%)"
      ]
    },
    {
      "cell_type": "code",
      "execution_count": null,
      "metadata": {
        "colab": {
          "base_uri": "https://localhost:8080/"
        },
        "id": "eQCs_UGZxpkH",
        "outputId": "9944f0a6-b2de-4c5d-bf53-d97b3d351f17"
      },
      "outputs": [
        {
          "name": "stdout",
          "output_type": "stream",
          "text": [
            "Conversor de Unidades\n",
            "1. Convertir Monedas\n",
            "2. Convertir Longitud\n",
            "3. Convertir Masa\n",
            "4. Convertir Almacenamiento\n",
            "5. Convertir Tiempo\n",
            "6. Convertir Volumen\n",
            "7. Convertir Área\n",
            "Seleccione una opción (1-7): 1\n",
            "Opciones de monedas:\n",
            "1. Dolares\n",
            "2. Euros\n",
            "3. Yenes\n",
            "4. Libra esterlina\n",
            "5. Dolar australiano\n",
            "6. Dolar canadiense\n",
            "7. Franco suizo\n",
            "8. Renminbi\n",
            "9. Rupia india\n",
            "10. Peso mexicano\n",
            "Seleccione la moneda de origen (1-10): 10\n",
            "Seleccione la moneda de destino (1-10): 1\n",
            "Ingrese la cantidad a convertir: 70\n",
            "70.0 Peso mexicano son aproximadamente 4.16 Dolares\n"
          ]
        }
      ],
      "source": [
        "def convertir_monedas():\n",
        "    monedas = {\n",
        "        \"Dolares\": 1.0,\n",
        "        \"Euros\": 0.93,\n",
        "        \"Yenes\": 145.83,\n",
        "        \"Libra esterlina\": 0.79,\n",
        "        \"Dolar australiano\": 1.56,\n",
        "        \"Dolar canadiense\": 1.36,\n",
        "        \"Franco suizo\": 0.88,\n",
        "        \"Renminbi\": 7.28,\n",
        "        \"Rupia india\": 82.59,\n",
        "        \"Peso mexicano\": 16.83\n",
        "    }\n",
        "\n",
        "    print(\"Opciones de monedas:\")\n",
        "    for i, moneda in enumerate(monedas.keys(), start=1):\n",
        "        print(f\"{i}. {moneda}\")\n",
        "\n",
        "    opcion_origen = int(input(\"Seleccione la moneda de origen (1-10): \"))\n",
        "    opcion_destino = int(input(\"Seleccione la moneda de destino (1-10): \"))\n",
        "    cantidad = float(input(\"Ingrese la cantidad a convertir: \"))\n",
        "\n",
        "    moneda_origen = list(monedas.keys())[opcion_origen - 1]\n",
        "    moneda_destino = list(monedas.keys())[opcion_destino - 1]\n",
        "\n",
        "    conversion = cantidad * (monedas[moneda_destino] / monedas[moneda_origen])\n",
        "    print(f\"{cantidad} {moneda_origen} son aproximadamente {conversion:.2f} {moneda_destino}\")\n",
        "\n",
        "def convertir_longitud():\n",
        "    unidades_longitud = {\n",
        "        \"metros\": 1.0,\n",
        "        \"pulgadas\": 39.37,\n",
        "        \"pies\": 3.28,\n",
        "        \"centímetros\": 100,\n",
        "        \"millas\": 0.00062,\n",
        "        \"kilómetros\": 0.001,\n",
        "        \"yardas\": 1.09,\n",
        "        \"millímetros\": 1000,\n",
        "        \"micrómetros\": 1000000,\n",
        "        \"nanómetros\": 1000000000\n",
        "    }\n",
        "\n",
        "    print(\"Opciones de unidades de longitud:\")\n",
        "    for i, unidad in enumerate(unidades_longitud.keys(), start=1):\n",
        "        print(f\"{i}. {unidad}\")\n",
        "\n",
        "    opcion_origen = int(input(\"Seleccione la unidad de origen (1-10): \"))\n",
        "    opcion_destino = int(input(\"Seleccione la unidad de destino (1-10): \"))\n",
        "    longitud = float(input(\"Ingrese la longitud a convertir: \"))\n",
        "\n",
        "    unidad_origen = list(unidades_longitud.keys())[opcion_origen - 1]\n",
        "    unidad_destino = list(unidades_longitud.keys())[opcion_destino - 1]\n",
        "\n",
        "    conversion = longitud * (unidades_longitud[unidad_destino] / unidades_longitud[unidad_origen])\n",
        "    print(f\"{longitud} {unidad_origen} son aproximadamente {conversion:.2f} {unidad_destino}\")\n",
        "\n",
        "def convertir_masa():\n",
        "    unidades_masa = {\n",
        "        \"kilogramos\": 1.0,\n",
        "        \"gramos\": 1000,\n",
        "        \"miligramos\": 1000000,\n",
        "        \"toneladas\": 0.001,\n",
        "        \"onzas\": 35.27,\n",
        "        \"libras\": 2.20,\n",
        "        \"microgramos\": 1000000000,\n",
        "        \"stone\": 0.16,\n",
        "        \"quintales\": 0.01,\n",
        "        \"toneladas_cortas\": 0.0011\n",
        "    }\n",
        "\n",
        "    print(\"Opciones de unidades de masa:\")\n",
        "    for i, unidad in enumerate(unidades_masa.keys(), start=1):\n",
        "        print(f\"{i}. {unidad}\")\n",
        "\n",
        "    opcion_origen = int(input(\"Seleccione la unidad de origen (1-10): \"))\n",
        "    opcion_destino = int(input(\"Seleccione la unidad de destino (1-10): \"))\n",
        "    masa = float(input(\"Ingrese la masa a convertir: \"))\n",
        "\n",
        "    unidad_origen = list(unidades_masa.keys())[opcion_origen - 1]\n",
        "    unidad_destino = list(unidades_masa.keys())[opcion_destino - 1]\n",
        "\n",
        "    conversion = masa * (unidades_masa[unidad_destino] / unidades_masa[unidad_origen])\n",
        "    print(f\"{masa} {unidad_origen} son aproximadamente {conversion:.2f} {unidad_destino}\")\n",
        "\n",
        "def convertir_almacenamiento():\n",
        "    almacenamientos = {\n",
        "        \"Bit\": 1,\n",
        "    \"Kilobit\": 0.001,\n",
        "    \"Megabit\": 0.000001,\n",
        "    \"Gigabit\": 0.000000001,\n",
        "    \"Byte\": 0.125,\n",
        "    \"Kilobyte\": 0.000125,\n",
        "    \"Megabyte\": 0.000000125,\n",
        "    \"Gigabyte\": 0.000000000125,\n",
        "    \"Terabyte\": 1.25e-13,\n",
        "    \"Petabyte\": 1.25e-16\n",
        "      }\n",
        "\n",
        "    print(\"Opciones de almacenamiento:\")\n",
        "    for i, almacenamiento in enumerate(almacenamientos.keys(), start=1):\n",
        "        print(f\"{i}. {almacenamiento}\")\n",
        "\n",
        "    opcion_origen = int(input(\"Seleccione el dato de almacenamiento de origen (1-10): \"))\n",
        "    opcion_destino = int(input(\"Seleccione el dato de almacenamiento de destino (1-10): \"))\n",
        "    cantidad = float(input(\"Ingrese la cantidad a convertir: \"))\n",
        "\n",
        "    almacenamiento_origen = list(almacenamientos.keys())[opcion_origen - 1]\n",
        "    almacenamiento_destino = list(almacenamientos.keys())[opcion_destino - 1]\n",
        "\n",
        "    conversion = cantidad * (almacenamientos[almacenamiento_destino] / almacenamientos[almacenamiento_origen])\n",
        "    print(f\"{cantidad} {almacenamiento_origen} son aproximadamente {conversion:.16f} {almacenamiento_destino}\")\n",
        "\n",
        "def convertir_tiempo():\n",
        "    unidades_tiempo = {\n",
        "    \"Milisegundos\": 1,\n",
        "    \"Segundos\": 0.001,\n",
        "    \"Minutos\": 1.6667e-5,\n",
        "    \"Horas\": 2.7778e-7,\n",
        "    \"Dias\": 1.1574e-8,\n",
        "    \"Semanas\": 1.6534e-9,\n",
        "    \"Mes\": 3.8052e-10,\n",
        "    \"Años\": 3.171e-11,\n",
        "    \"Decadas\": 3.171e-12,\n",
        "    \"Siglos\": 3.171e-13\n",
        "      }\n",
        "\n",
        "    print(\"Opciones de tiempo:\")\n",
        "    for i, tiempo in enumerate(unidades_tiempo.keys(), start=1):\n",
        "        print(f\"{i}. {tiempo}\")\n",
        "\n",
        "    opcion_origen = int(input(\"Seleccione el tiempo de origen (1-10): \"))\n",
        "    opcion_destino = int(input(\"Seleccione el tiempo de destino (1-10): \"))\n",
        "    cantidad = float(input(\"Ingrese la cantidad a convertir: \"))\n",
        "\n",
        "    tiempo_origen = list(unidades_tiempo.keys())[opcion_origen - 1]\n",
        "    tiempo_destino = list(unidades_tiempo.keys())[opcion_destino - 1]\n",
        "\n",
        "    conversion = cantidad * (unidades_tiempo[tiempo_destino] / unidades_tiempo[tiempo_origen])\n",
        "    print(f\"{cantidad} {tiempo_origen} son aproximadamente {conversion:.16f} {tiempo_destino}\")\n",
        "\n",
        "def convertir_volumen():\n",
        "    unidades_volumen = {\n",
        "    \"Litro\": 1,\n",
        "    \"Galón estadounidense\": 0.264172,\n",
        "    \"Cuarto estadounidense\": 1.05669,\n",
        "    \"Pinta estadounidense\": 2.11338,\n",
        "    \"Taza americana oficial\": 4.16667,\n",
        "    \"Onza liquida estadounidense\": 33.814,\n",
        "    \"Metro cúbico\": 0.001,\n",
        "    \"Mililitro\": 1000,\n",
        "    \"Pie cúbico\": 0.0353147,\n",
        "    \"Pulgada cúbica\": 61.0237\n",
        "      }\n",
        "\n",
        "    print(\"Opciones de volumen:\")\n",
        "    for i, volumen in enumerate(unidades_volumen.keys(), start=1):\n",
        "        print(f\"{i}. {volumen}\")\n",
        "\n",
        "    opcion_origen = int(input(\"Seleccione el dato de volumen de origen (1-10): \"))\n",
        "    opcion_destino = int(input(\"Seleccione el dato de volumen de destino (1-10): \"))\n",
        "    cantidad = float(input(\"Ingrese la cantidad a convertir: \"))\n",
        "\n",
        "    volumen_origen = list(unidades_volumen.keys())[opcion_origen - 1]\n",
        "    volumen_destino = list(unidades_volumen.keys())[opcion_destino - 1]\n",
        "\n",
        "    conversion = cantidad * (unidades_volumen[volumen_destino] / unidades_volumen[volumen_origen])\n",
        "    print(f\"{cantidad} {volumen_origen} son aproximadamente {conversion:.7f} {volumen_destino}\")\n",
        "\n",
        "def convertir_area():\n",
        "    unidades_area = {\n",
        "    \"Metro cuadrado\": 1,\n",
        "    \"Pie cuadrado\": 10.7639,\n",
        "    \"Hectárea\": 0.0001,\n",
        "    \"Acre\": 0.000247105,\n",
        "    \"Kilómetro cuadrado\": 0.000001,\n",
        "    \"Milla cuadrada\": 3.861e-7,\n",
        "    \"Yarda cuadrada\": 1.19599,\n",
        "    \"Centímetro cuadrado\": 10000,\n",
        "      }\n",
        "\n",
        "    print(\"Opciones de área:\")\n",
        "    for i, area in enumerate(unidades_area.keys(), start=1):\n",
        "        print(f\"{i}. {area}\")\n",
        "\n",
        "    opcion_origen = int(input(\"Seleccione el dato de área de origen (1-10): \"))\n",
        "    opcion_destino = int(input(\"Seleccione el dato de área de destino (1-10): \"))\n",
        "    cantidad = float(input(\"Ingrese la cantidad a convertir: \"))\n",
        "\n",
        "    area_origen = list(unidades_area.keys())[opcion_origen - 1]\n",
        "    area_destino = list(unidades_area.keys())[opcion_destino - 1]\n",
        "\n",
        "    conversion = cantidad * (unidades_area[area_destino] / unidades_area[area_origen])\n",
        "    print(f\"{cantidad} {area_origen} son aproximadamente {conversion:.10f} {area_destino}\")\n",
        "\n",
        "\n",
        "def main():\n",
        "    print(\"Conversor de Unidades\")\n",
        "    print(\"1. Convertir Monedas\")\n",
        "    print(\"2. Convertir Longitud\")\n",
        "    print(\"3. Convertir Masa\")\n",
        "    print(\"4. Convertir Almacenamiento\")\n",
        "    print(\"5. Convertir Tiempo\")\n",
        "    print(\"6. Convertir Volumen\")\n",
        "    print(\"7. Convertir Área\")\n",
        "\n",
        "    opcion_principal = int(input(\"Seleccione una opción (1-7): \"))\n",
        "\n",
        "    if opcion_principal == 1:\n",
        "        convertir_monedas()\n",
        "    elif opcion_principal == 2:\n",
        "        convertir_longitud()\n",
        "    elif opcion_principal == 3:\n",
        "        convertir_masa()\n",
        "    elif opcion_principal == 4:\n",
        "        convertir_almacenamiento()\n",
        "    elif opcion_principal == 5:\n",
        "        convertir_tiempo()\n",
        "    elif opcion_principal == 6:\n",
        "        convertir_volumen()\n",
        "    elif opcion_principal == 7:\n",
        "        convertir_area()\n",
        "    else:\n",
        "        print(\"Opción no válida\")\n",
        "\n",
        "if __name__ == \"__main__\":\n",
        "    main()"
      ]
    },
    {
      "cell_type": "code",
      "execution_count": null,
      "metadata": {
        "colab": {
          "background_save": true,
          "base_uri": "https://localhost:8080/"
        },
        "id": "YLnvv2qu8Qm8",
        "outputId": "930ab021-e5d4-4a19-dab2-46739d441d24"
      },
      "outputs": [
        {
          "name": "stdout",
          "output_type": "stream",
          "text": [
            "Bienvenido al Conversor de Cajas a Sacos a Libras a Unidades de Fardos\n",
            "Ingresa el valor a convertir: 2\n",
            "Has ingresado 2.0.\n"
          ]
        }
      ],
      "source": [
        "def cajas_a_sacos(cajas):\n",
        "    sacos_por_caja = 2  # Ejemplo: 2 sacos por caja\n",
        "    sacos = cajas * sacos_por_caja\n",
        "    return sacos\n",
        "\n",
        "def sacos_a_cajas(sacos):\n",
        "    cajas_por_saco = 0.5  # Ejemplo: 0.5 cajas por saco\n",
        "    cajas = sacos * cajas_por_saco\n",
        "    return cajas\n",
        "\n",
        "def sacos_a_libras(sacos):\n",
        "    libras_por_saco = 25  # Ejemplo: 25 libras por saco\n",
        "    libras = sacos * libras_por_saco\n",
        "    return libras\n",
        "\n",
        "def libras_a_sacos(libras):\n",
        "    sacos_por_libra = 0.04  # Ejemplo: 0.04 sacos por libra\n",
        "    sacos = libras * sacos_por_libra\n",
        "    return sacos\n",
        "\n",
        "def libras_a_fardos(libras):\n",
        "    fardos_por_libra = 0.1  # Ejemplo: 0.1 unidad de fardo por libra\n",
        "    fardos = libras * fardos_por_libra\n",
        "    return fardos\n",
        "\n",
        "def fardos_a_libras(fardos):\n",
        "    libras_por_fardo = 10  # Ejemplo: 10 libras por unidad de fardo\n",
        "    libras = fardos * libras_por_fardo\n",
        "    return libras\n",
        "\n",
        "print(\"Bienvenido al Conversor de Cajas a Sacos a Libras a Unidades de Fardos\")\n",
        "\n",
        "while True:\n",
        "    try:\n",
        "        valor = float(input(\"Ingresa el valor a convertir: \"))\n",
        "    except ValueError:\n",
        "        print(\"Por favor, ingresa un valor numérico válido.\")\n",
        "        continue\n",
        "\n",
        "    print(f\"Has ingresado {valor}.\")\n",
        "\n",
        "    conversion = input(\"¿Qué tipo de conversión deseas realizar? (cajas/sacos/libras/fardos): \")\n",
        "    conversion = conversion.lower()\n",
        "\n",
        "    if conversion == \"cajas\":\n",
        "        sacos_resultado = cajas_a_sacos(valor)\n",
        "        print(f\"{valor} cajas equivalen a {sacos_resultado} sacos.\")\n",
        "    elif conversion == \"sacos\":\n",
        "        cajas_resultado = sacos_a_cajas(valor)\n",
        "        print(f\"{valor} sacos equivalen a {cajas_resultado} cajas.\")\n",
        "    elif conversion == \"libras\":\n",
        "        sacos_resultado = libras_a_sacos(valor)\n",
        "        print(f\"{valor} libras equivalen a {sacos_resultado} sacos.\")\n",
        "    elif conversion == \"fardos\":\n",
        "        libras_resultado = fardos_a_libras(valor)\n",
        "        print(f\"{valor} unidades de fardos equivalen a {libras_resultado} libras.\")\n",
        "    else:\n",
        "        print(\"Opción no válida. Por favor, elige entre 'cajas', 'sacos', 'libras' o 'fardos'.\")\n",
        "\n",
        "    otra_conversion = input(\"¿Deseas realizar otra conversión? (s/n): \")\n",
        "    if otra_conversion.lower() != 's':\n",
        "        print(\"¡Hasta luego!\")\n",
        "        break\n"
      ]
    },
    {
      "cell_type": "markdown",
      "metadata": {
        "id": "HnzLfrJpkETW"
      },
      "source": [
        "parcial\n",
        "Desarrolle el conversor de Área (Superficie) haciendo uso de los\n",
        "diccionarios y las funciones de usuario en Python que contenga las\n",
        "siguientes opciones: (20%)\n",
        "a. Pie Cuadrado\n",
        "b. Vara Cuadrada\n",
        "c. Yarda Cuadrada\n",
        "d. Metro Cuadrado\n",
        "e. Tareas\n",
        "f. Manzana\n",
        "g. Hectárea"
      ]
    },
    {
      "cell_type": "code",
      "execution_count": null,
      "metadata": {
        "colab": {
          "background_save": true,
          "base_uri": "https://localhost:8080/"
        },
        "id": "KPzTt_MqdWJ3",
        "outputId": "e98162bf-8997-4476-f2e3-0b69e0783d36"
      },
      "outputs": [
        {
          "name": "stdout",
          "output_type": "stream",
          "text": [
            "1. Pies cuadrados a Varas cuadradas\n",
            "2. Pies cuadrados a Yardas cuadradas\n",
            "3. Pies cuadrados a Metros cuadrados\n",
            "4. Metros cuadrados a Tareas\n",
            "5. Metros cuadrados a Manzanas\n",
            "6. Metros cuadrados a Hectáreas\n",
            "7. Salir\n",
            "45.0 pies cuadrados son 37.62573265662756 varas cuadradas\n",
            "1. Pies cuadrados a Varas cuadradas\n",
            "2. Pies cuadrados a Yardas cuadradas\n",
            "3. Pies cuadrados a Metros cuadrados\n",
            "4. Metros cuadrados a Tareas\n",
            "5. Metros cuadrados a Manzanas\n",
            "6. Metros cuadrados a Hectáreas\n",
            "7. Salir\n"
          ]
        }
      ],
      "source": [
        "# Funciones de conversión\n",
        "def pies_cuadrados_a_varas_cuadradas(pies_cuadrados):\n",
        "    return pies_cuadrados / 1.19599\n",
        "\n",
        "def pies_cuadrados_a_yardas_cuadradas(pies_cuadrados):\n",
        "    return pies_cuadrados / 9.0\n",
        "\n",
        "def pies_cuadrados_a_metros_cuadrados(pies_cuadrados):\n",
        "    return pies_cuadrados / 10.7639\n",
        "\n",
        "def metros_cuadrados_a_tareas(metros_cuadrados):\n",
        "    return metros_cuadrados / 4046.86\n",
        "\n",
        "def metros_cuadrados_a_manzanas(metros_cuadrados):\n",
        "    return metros_cuadrados / 10000.0\n",
        "\n",
        "def metros_cuadrados_a_hectareas(metros_cuadrados):\n",
        "    return metros_cuadrados / 10000.0\n",
        "\n",
        "# Menú de opciones\n",
        "while True:\n",
        "    print(\"1. Pies cuadrados a Varas cuadradas\")\n",
        "    print(\"2. Pies cuadrados a Yardas cuadradas\")\n",
        "    print(\"3. Pies cuadrados a Metros cuadrados\")\n",
        "    print(\"4. Metros cuadrados a Tareas\")\n",
        "    print(\"5. Metros cuadrados a Manzanas\")\n",
        "    print(\"6. Metros cuadrados a Hectáreas\")\n",
        "    print(\"7. Salir\")\n",
        "\n",
        "    opcion = int(input(\"Selecciona una opción: \"))\n",
        "\n",
        "    if opcion == 7:\n",
        "        break\n",
        "\n",
        "    valor = float(input(\"Ingresa el valor del área: \"))\n",
        "\n",
        "    if opcion == 1:\n",
        "        resultado = pies_cuadrados_a_varas_cuadradas(valor)\n",
        "        print(f\"{valor} pies cuadrados son {resultado} varas cuadradas\")\n",
        "    elif opcion == 2:\n",
        "        resultado = pies_cuadrados_a_yardas_cuadradas(valor)\n",
        "        print(f\"{valor} pies cuadrados son {resultado} yardas cuadradas\")\n",
        "    elif opcion == 3:\n",
        "        resultado = pies_cuadrados_a_metros_cuadrados(valor)\n",
        "        print(f\"{valor} pies cuadrados son {resultado} metros cuadrados\")\n",
        "    elif opcion == 4:\n",
        "        resultado = metros_cuadrados_a_tareas(valor)\n",
        "        print(f\"{valor} metros cuadrados son {resultado} tareas\")\n",
        "    elif opcion == 5:\n",
        "        resultado = metros_cuadrados_a_manzanas(valor)\n",
        "        print(f\"{valor} metros cuadrados son {resultado} manzanas\")\n",
        "    elif opcion == 6:\n",
        "        resultado = metros_cuadrados_a_hectareas(valor)\n",
        "        print(f\"{valor} metros cuadrados son {resultado} hectáreas\")\n",
        "    else:\n",
        "        print(\"Opción no válida. Por favor, selecciona una opción válida.\")\n"
      ]
    }
  ],
  "metadata": {
    "colab": {
      "provenance": [],
      "authorship_tag": "ABX9TyOnFFicFC4iHxsccst9efqc",
      "include_colab_link": true
    },
    "kernelspec": {
      "display_name": "Python 3",
      "name": "python3"
    },
    "language_info": {
      "name": "python"
    }
  },
  "nbformat": 4,
  "nbformat_minor": 0
}